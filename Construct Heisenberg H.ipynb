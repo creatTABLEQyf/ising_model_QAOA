{
 "cells": [
  {
   "cell_type": "code",
   "execution_count": 2,
   "id": "ba8c443f",
   "metadata": {},
   "outputs": [],
   "source": [
    "%matplotlib inline\n",
    "\n",
    "# useful packages\n",
    "import matplotlib.pyplot as plt\n",
    "import matplotlib.axes as axes\n",
    "import numpy as np\n",
    "import networkx as nx\n",
    "import time\n",
    "import pandas as pd\n",
    "\n",
    "from qiskit.tools.visualization import plot_histogram\n",
    "from qiskit.circuit.library import TwoLocal\n",
    "from qiskit_optimization.applications import Maxcut, Tsp\n",
    "from qiskit.algorithms import VQE, NumPyMinimumEigensolver\n",
    "from qiskit.algorithms.optimizers import SPSA, COBYLA, SLSQP\n",
    "from qiskit.utils import algorithm_globals, QuantumInstance\n",
    "from qiskit_optimization.algorithms import MinimumEigenOptimizer\n",
    "from qiskit_optimization.problems import QuadraticProgram\n",
    "from qiskit.quantum_info import Statevector\n",
    "from qiskit import Aer, IBMQ\n",
    "from qiskit import QuantumRegister, ClassicalRegister, QuantumCircuit, execute\n",
    "from qiskit.providers.ibmq import least_busy\n",
    "from qiskit.tools.monitor import job_monitor\n",
    "from qiskit.visualization import plot_histogram\n",
    "from qiskit.visualization import plot_state_city, plot_bloch_multivector\n",
    "from qiskit.visualization import plot_state_paulivec, plot_state_hinton\n",
    "from qiskit.visualization import plot_state_qsphere\n",
    "import qiskit"
   ]
  },
  {
   "cell_type": "code",
   "execution_count": 3,
   "id": "24ee55da",
   "metadata": {},
   "outputs": [],
   "source": [
    "# graph generation\n",
    "\n",
    "def draw_graph(G, colors, pos):\n",
    "        default_axes = plt.axes(frameon=True)\n",
    "        nx.draw_networkx(G, node_color=colors, node_size=600, alpha=0.8, ax=default_axes, pos=pos)\n",
    "        edge_labels = nx.get_edge_attributes(G, \"weight\")\n",
    "        nx.draw_networkx_edge_labels(G, pos=pos, edge_labels=edge_labels)\n",
    "\n",
    "def graph_generation(dim, periodic  = False):\n",
    "    # Generating the system\n",
    "    N = dim\n",
    "    G1 = nx.grid_2d_graph(N,N)\n",
    "    pos = dict( (n, n) for n in G1.nodes() )\n",
    "    labels = dict( ((i, j), i * N + j) for i, j in G1.nodes() )\n",
    "    # Transform to weighted graph:\n",
    "    n = N**2\n",
    "    V = np.arange(0, N, 1)\n",
    "\n",
    "    E =[]\n",
    "\n",
    "    tuples = []\n",
    "    other_tup = []\n",
    "    point_edge_map = []\n",
    "    other_map = []\n",
    "    relations = []\n",
    "\n",
    "    for edge in G1.edges:\n",
    "        point1 = edge[0]\n",
    "        strpoint1 = str(point1[0]) + str(point1[1])\n",
    "        point2 = edge[1]\n",
    "        strpoint2 = str(point2[0]) + str(point2[1])\n",
    "        if not strpoint1 in point_edge_map:\n",
    "            point_edge_map.append(strpoint1)\n",
    "            tuples.append(edge[0])\n",
    "        if not strpoint2 in other_map:\n",
    "            other_map.append(strpoint2)\n",
    "            other_tup.append(edge[1])\n",
    "        relations.append((strpoint1, strpoint2))\n",
    "\n",
    "     # add periodic boundary conditions\n",
    "    if periodic:\n",
    "        grid = np.zeros((dim, dim)).astype('int64').tolist()\n",
    "        for i in range(dim):\n",
    "            for j in range(dim):\n",
    "                pt = str(i) + str(j)\n",
    "                grid[i][j] = pt\n",
    "        for i in range(len(grid)):\n",
    "            relations.append((grid[0][i], grid[dim-1][i]))\n",
    "            relations.append((grid[i][0], grid[i][dim-1]))  \n",
    "        \n",
    "    tuples.append(other_tup[len(other_tup) - 1])\n",
    "    point_edge_map.append(other_map[len(other_map) - 1])\n",
    "\n",
    "    dic = {}\n",
    "    for i in range(len(point_edge_map)):\n",
    "        dic[i] = point_edge_map[i]\n",
    "\n",
    "    point_edge_map = np.array(point_edge_map)\n",
    "    relations = np.array(relations)\n",
    "\n",
    "    for relation in relations:\n",
    "        ver1 = relation[0]\n",
    "        ver2 = relation[1]\n",
    "        point1 = np.where(point_edge_map == ver1)[0][0]\n",
    "        point2 = np.where(point_edge_map == ver2)[0][0]\n",
    "        edge = (point1, point2, 1.0)\n",
    "        E.append(edge)\n",
    "\n",
    "    G = nx.Graph()\n",
    "\n",
    "    G.add_nodes_from(V)\n",
    "\n",
    "    G.add_weighted_edges_from(E)\n",
    "\n",
    "    colors = [\"b\" for node in G.nodes()]\n",
    "    pos = dict()\n",
    "    for i in range(n):\n",
    "        pos[i] = tuples[i]\n",
    "\n",
    "\n",
    "    # draw_graph(G, colors, pos)\n",
    "    \n",
    "    # Matrix Representation of Graph\n",
    "    w = np.zeros([n, n])\n",
    "    for i in range(n):\n",
    "        for j in range(n):\n",
    "            temp = G.get_edge_data(i, j, default=0)\n",
    "            if temp != 0:\n",
    "                w[i, j] = temp[\"weight\"]\n",
    "                \n",
    "    return G, w, pos"
   ]
  },
  {
   "cell_type": "code",
   "execution_count": 4,
   "id": "8b2d009b",
   "metadata": {},
   "outputs": [],
   "source": [
    "# output probability\n",
    "def output_prob(parameters, size, rep): \n",
    "    '''\n",
    "    parameters from vqe, size should be (number of interations, size**2 * rep)\n",
    "    size: size of the ising model \n",
    "    rep: number of rep in the ansatz\n",
    "    '''\n",
    "    ### assign parameter in the circuit \n",
    "    num_q = size**2\n",
    "    qc = QuantumCircuit(num_q)\n",
    "    for i in range(rep+1):\n",
    "        for j in range(num_q): \n",
    "            qc.ry(parameters[j+i*num_q], j)\n",
    "    \n",
    "    ### measure \n",
    "    final_counts = backend.run(qc, shot=1000).result().get_statevector()\n",
    "    probs = Statevector(final_counts).probabilities()\n",
    "    # coeff is the square root of probs \n",
    "    coeff = np.sqrt(probs)\n",
    "    \n",
    "    # function for writing wave function in binary form\n",
    "    def zero(a,num_q):\n",
    "        string = ''\n",
    "        if len(a) < num_q:\n",
    "            for _ in range(num_q-len(a)):\n",
    "                string += '0'\n",
    "            string += a\n",
    "            return string\n",
    "        # add an else statement\n",
    "        else:\n",
    "            return a\n",
    "\n",
    "    info = {}\n",
    "    # the largest integer that format() can convert to binary is 255.\n",
    "    for i in range(len(coeff)):\n",
    "        info[zero(bin(i)[2:], num_q)] = np.round(coeff[i], 3)\n",
    "    return info"
   ]
  },
  {
   "cell_type": "code",
   "execution_count": 5,
   "id": "89c60356",
   "metadata": {},
   "outputs": [],
   "source": [
    "G, w, pos = graph_generation(3)\n",
    "max_cut = Maxcut(w)\n",
    "qp = max_cut.to_quadratic_program()\n",
    "qubitOp, offset = qp.to_ising()\n",
    "exact = MinimumEigenOptimizer(NumPyMinimumEigensolver())"
   ]
  },
  {
   "cell_type": "code",
   "execution_count": 6,
   "id": "821248e4",
   "metadata": {},
   "outputs": [
    {
     "name": "stdout",
     "output_type": "stream",
     "text": [
      "maximize -2*x_0*x_1 - 2*x_0*x_3 - 2*x_1*x_2 - 2*x_1*x_4 - 2*x_2*x_5 - 2*x_3*x_4 - 2*x_3*x_6 - 2*x_4*x_5 - 2*x_4*x_7 - 2*x_5*x_8 - 2*x_6*x_7 - 2*x_7*x_8 + 2*x_0 + 3*x_1 + 2*x_2 + 3*x_3 + 4*x_4 + 3*x_5 + 2*x_6 + 3*x_7 + 2*x_8 (9 variables, 0 constraints, 'Max-cut')\n"
     ]
    }
   ],
   "source": [
    "print(qp)"
   ]
  },
  {
   "cell_type": "code",
   "execution_count": 7,
   "id": "054fb1d8",
   "metadata": {},
   "outputs": [],
   "source": [
    "def size9energy(solution):\n",
    "    sol = [*solution]\n",
    "    spin = np.array([eval(i) for i in sol])\n",
    "    spin[spin == 0] = -1\n",
    "    print(spin)\n",
    "    x_0, x_1, x_2, x_3, x_4, x_5, x_6, x_7, x_8 = spin\n",
    "    return -2*x_0*x_1 - 2*x_0*x_3 - 2*x_1*x_2 - 2*x_1*x_4 - 2*x_2*x_5 - 2*x_3*x_4 - 2*x_3*x_6 - 2*x_4*x_5 - 2*x_4*x_7 - 2*x_5*x_8 - 2*x_6*x_7 - 2*x_7*x_8+ 2*x_0 + 3*x_1 + 2*x_2 + 3*x_3 + 4*x_4 + 3*x_5 + 2*x_6 + 3*x_7 + 2*x_8 "
   ]
  },
  {
   "cell_type": "code",
   "execution_count": 8,
   "id": "41712020",
   "metadata": {},
   "outputs": [
    {
     "name": "stdout",
     "output_type": "stream",
     "text": [
      "[-1  1  1  1 -1 -1 -1  1  1]\n"
     ]
    },
    {
     "data": {
      "text/plain": [
       "14"
      ]
     },
     "execution_count": 8,
     "metadata": {},
     "output_type": "execute_result"
    }
   ],
   "source": [
    "size9energy('011100011')"
   ]
  },
  {
   "cell_type": "code",
   "execution_count": 9,
   "id": "5d9f4491",
   "metadata": {},
   "outputs": [],
   "source": [
    "def maxcut_obj(x, G):\n",
    "    \"\"\"\n",
    "    Given a bitstring as a solution, this function returns\n",
    "    the number of edges shared between the two partitions\n",
    "    of the graph.\n",
    "    \n",
    "    Args:\n",
    "        x: str\n",
    "           solution bitstring\n",
    "           \n",
    "        G: networkx graph\n",
    "        \n",
    "    Returns:\n",
    "        obj: float\n",
    "             Objective\n",
    "    \"\"\"\n",
    "    obj = 0\n",
    "    for i, j in G.edges():\n",
    "        if x[i] != x[j]:\n",
    "            obj -= 1\n",
    "            \n",
    "    return obj"
   ]
  },
  {
   "cell_type": "code",
   "execution_count": 10,
   "id": "65246b56",
   "metadata": {},
   "outputs": [
    {
     "data": {
      "text/plain": [
       "-12"
      ]
     },
     "execution_count": 10,
     "metadata": {},
     "output_type": "execute_result"
    }
   ],
   "source": [
    "maxcut_obj('101010101', G)"
   ]
  },
  {
   "cell_type": "code",
   "execution_count": null,
   "id": "a2bb7656",
   "metadata": {},
   "outputs": [],
   "source": []
  },
  {
   "cell_type": "code",
   "execution_count": 12,
   "id": "e3952052",
   "metadata": {},
   "outputs": [
    {
     "name": "stdout",
     "output_type": "stream",
     "text": [
      "finish\n"
     ]
    }
   ],
   "source": [
    "file = '4x4 data seed2.xlsx'\n",
    "n = 4\n",
    "periodic = False\n",
    "G, w, pos = graph_generation(n, periodic = periodic)\n",
    "df = pd.read_excel(file)\n",
    "sols = df['solution']\n",
    "objective = []\n",
    "sol_str = []\n",
    "for sol in sols:\n",
    "    sol = str(sol)\n",
    "    if len(sol) != n**2:\n",
    "        sol = '0'*(n**2 - len(sol)) + sol\n",
    "    sol_str.append(sol)\n",
    "    objective.append(maxcut_obj(sol, G))\n",
    "\n",
    "df['max_cut objective'] = objective\n",
    "df['solution'] = sol_str\n",
    "\n",
    "writer = pd.ExcelWriter(file, engine = 'xlsxwriter')\n",
    "df.to_excel(writer, sheet_name = 'different get_expectation seeds')\n",
    "writer.save()\n",
    "print('finish')"
   ]
  },
  {
   "cell_type": "code",
   "execution_count": 51,
   "id": "c38ed427",
   "metadata": {},
   "outputs": [
    {
     "data": {
      "text/plain": [
       "'00'"
      ]
     },
     "execution_count": 51,
     "metadata": {},
     "output_type": "execute_result"
    }
   ],
   "source": [
    "'0' * 2"
   ]
  },
  {
   "cell_type": "code",
   "execution_count": null,
   "id": "8bb6372d",
   "metadata": {},
   "outputs": [],
   "source": []
  }
 ],
 "metadata": {
  "kernelspec": {
   "display_name": "Python 3 (ipykernel)",
   "language": "python",
   "name": "python3"
  },
  "language_info": {
   "codemirror_mode": {
    "name": "ipython",
    "version": 3
   },
   "file_extension": ".py",
   "mimetype": "text/x-python",
   "name": "python",
   "nbconvert_exporter": "python",
   "pygments_lexer": "ipython3",
   "version": "3.10.4"
  }
 },
 "nbformat": 4,
 "nbformat_minor": 5
}
